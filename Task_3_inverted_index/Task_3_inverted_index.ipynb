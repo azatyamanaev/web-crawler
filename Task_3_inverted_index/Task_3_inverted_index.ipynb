{
 "cells": [
  {
   "cell_type": "code",
   "execution_count": 1,
   "id": "21709e9a",
   "metadata": {},
   "outputs": [
    {
     "name": "stderr",
     "output_type": "stream",
     "text": [
      "[nltk_data] Downloading package stopwords to\n",
      "[nltk_data]     /home/monitor/nltk_data...\n",
      "[nltk_data]   Package stopwords is already up-to-date!\n"
     ]
    },
    {
     "data": {
      "text/plain": [
       "True"
      ]
     },
     "execution_count": 1,
     "metadata": {},
     "output_type": "execute_result"
    }
   ],
   "source": [
    "import nltk\n",
    "nltk.download('stopwords')"
   ]
  },
  {
   "cell_type": "code",
   "execution_count": 139,
   "id": "4c73fc2b",
   "metadata": {},
   "outputs": [],
   "source": [
    "# Функция, определяющая, является ли строка пустой\n",
    "def isBlank (string):\n",
    "    if string and string.strip():\n",
    "        return False\n",
    "    return True\n"
   ]
  },
  {
   "cell_type": "code",
   "execution_count": 149,
   "id": "8c8091cb",
   "metadata": {},
   "outputs": [],
   "source": [
    "import re\n",
    "\n",
    "patterns = \"[A-Za-z0-9(){}–«»,:;\\\"'.“”!#$%&<=>?@\\xa0/№-]+\"\n",
    "\n",
    "texts = []\n",
    "\n",
    "# В цикле читаются все документы из папки ./documents, из текста каждого документа убираются спец. символы,\n",
    "# указанные в переменной patterns\n",
    "# После этого тексты всех документов собирается в один массив\n",
    "for i in range(1,101):\n",
    "    path='./documents/out{num}.txt'.format(num=i)\n",
    "    with open(path,'r') as file:\n",
    "        text = ''\n",
    "        for line in file.readlines():\n",
    "            if not isBlank(line):\n",
    "                line = re.sub(patterns, ' ', line)\n",
    "                text += ' ' + line\n",
    "        text = text.replace('\\n', ' ')\n",
    "        texts.append(text)\n",
    "\n",
    "# print(texts)"
   ]
  },
  {
   "cell_type": "code",
   "execution_count": 142,
   "id": "59e69965",
   "metadata": {},
   "outputs": [],
   "source": [
    "from pymorphy2 import MorphAnalyzer\n",
    "from nltk.corpus import stopwords\n",
    "\n",
    "stopwords_ru = stopwords.words(\"russian\")\n",
    "morph = MorphAnalyzer()\n",
    "\n",
    "# функция для создания инвертировнного индекса\n",
    "# в цикле идет проход по текстам всех документов, для каждого документа в словарь \n",
    "# добавляется или обновляется информация о каждом слове(номер документа и кол-во появлений слова в документе)\n",
    "\n",
    "def create_index(texts):\n",
    "    tks_count = {}\n",
    "    for i in range(0,len(texts)):\n",
    "        for word in texts[i].split(' '):\n",
    "            token = word.lower()\n",
    "            if token and token not in stopwords_ru:\n",
    "                token = token.strip()\n",
    "                nor_token = morph.normal_forms(token)[0]\n",
    "                if len(nor_token) > 1:\n",
    "                    if nor_token in tks_count.keys():\n",
    "                        if i+1 in tks_count[nor_token].keys():\n",
    "                            tks_count[nor_token][i+1] += 1\n",
    "                        else:\n",
    "                            tks_count[nor_token][i+1] = 1\n",
    "                    else:\n",
    "                        tks_count[nor_token] = {i+1:1}\n",
    "    return tks_count\n",
    "                    \n",
    "                \n",
    "inv_index = create_index(texts)"
   ]
  },
  {
   "cell_type": "code",
   "execution_count": 147,
   "id": "d67db6b8",
   "metadata": {},
   "outputs": [],
   "source": [
    "import json\n",
    "\n",
    "# запись инвертированного индекса в файл\n",
    "\n",
    "with open('./result/inverted_index.txt', 'w') as file:\n",
    "    for key,value in inv_index.items():\n",
    "        file.write('{}: {}\\n'.format(key, json.dumps(value)))"
   ]
  },
  {
   "cell_type": "code",
   "execution_count": 148,
   "id": "807b3695",
   "metadata": {},
   "outputs": [],
   "source": [
    "# чтение файла со ссылками на все использованные документы и запись ссылок в массив\n",
    "\n",
    "path='./index.txt'\n",
    "index = []\n",
    "with open(path,'r') as file:\n",
    "    text = ''\n",
    "    for line in file.readlines():\n",
    "        if not isBlank(line):\n",
    "            index.append(line.split(' ')[-1].replace('\\n', ''))\n",
    "\n"
   ]
  },
  {
   "cell_type": "code",
   "execution_count": 145,
   "id": "10713a1a",
   "metadata": {},
   "outputs": [],
   "source": [
    "from pymorphy2 import MorphAnalyzer\n",
    "morph = MorphAnalyzer()\n",
    "\n",
    "\n",
    "# функция поиска\n",
    "# сначала запрос разбивается на список выражений по оператору +(или)\n",
    "# после этого каждое выражение разбивается на список слов по оператору *(и)\n",
    "# для каждого слова находятся все документы, в которых оно встречается\n",
    "# находится перечесение списков документов для данного выражения\n",
    "# если перед словом стоит минус, то документы, в которых встречается это слово, вычитаются из пересечения\n",
    "# списки документов, полученные из списка выражений, складываются в один итоговый список документов\n",
    "\n",
    "\n",
    "def bool_search(query, index, inv_index):\n",
    "    docs = []\n",
    "    exprs = query.split('+')\n",
    "    for expr in exprs:\n",
    "        words = expr.split('*')\n",
    "        tempp = []\n",
    "        tempm = []\n",
    "        mi = False\n",
    "        for word in words:\n",
    "            word = word.strip()\n",
    "            if '-' in word:\n",
    "                word = word.replace('-', '')\n",
    "                mi = True\n",
    "            else:\n",
    "                mi = False\n",
    "            word = morph.normal_forms(word)[0]\n",
    "            if word in inv_index.keys():\n",
    "                curr = list(inv_index[word].keys())\n",
    "                if mi:\n",
    "                    if len(tempm) == 0:\n",
    "                        tempm = curr\n",
    "                    i = 0\n",
    "                    while i < len(tempm):\n",
    "                        t = tempm[i]\n",
    "                        if t not in curr:\n",
    "                            tempm.remove(t)\n",
    "                            i-=1\n",
    "                        i+=1\n",
    "                else:\n",
    "                    if len(tempp) == 0:\n",
    "                        tempp = curr\n",
    "                    i = 0\n",
    "                    while i < len(tempp):\n",
    "                        t = tempp[i]\n",
    "                        if t not in curr:\n",
    "                            tempp.remove(t)\n",
    "                            i-=1\n",
    "                        i+=1\n",
    "        i = 0\n",
    "        while i < len(tempp):\n",
    "            tem = tempp[i]\n",
    "            if tem in tempm:\n",
    "                tempp.remove(tem)\n",
    "                i-=1\n",
    "            i+=1\n",
    "        for el in tempp:\n",
    "            if el not in docs:\n",
    "                docs.append(el)\n",
    "    print(len(docs))\n",
    "    print(docs)\n",
    "    for i in range(0, len(docs)):\n",
    "        docs[i] = index[docs[i]-1]\n",
    "        print(docs[i])\n",
    "        \n",
    "    return docs\n",
    "        \n",
    "        "
   ]
  },
  {
   "cell_type": "code",
   "execution_count": 146,
   "id": "f2ca9cd8",
   "metadata": {},
   "outputs": [
    {
     "name": "stdout",
     "output_type": "stream",
     "text": [
      "29\n",
      "[14, 23, 30, 36, 47, 54, 64, 80, 90, 98, 99, 20, 24, 25, 29, 31, 33, 34, 38, 46, 49, 60, 68, 69, 71, 81, 86, 88, 97]\n",
      "https://panorama.pub/5585-yuzhnoafrikanskie-strausy-vpali-v-depressiyu-posle-vstrechi-s-pervoj-ledi-frantsii.html\n",
      "https://panorama.pub/5464-v-kitae-administratsiya-goroda.html\n",
      "https://panorama.pub/5369-britanskie-uchyonye-rasskazali-ob-opasnosti-mytya-golovy-shampunem.html\n",
      "https://panorama.pub/5335-porno-altajsk.html\n",
      "https://panorama.pub/5259-v-velikobritanii-poyavilis-shkoly-s-obyazatelnym-nosheniem-hidzhaba-dlya-devochek.html\n",
      "https://panorama.pub/5211-gosdepartament-ssha-priznal.html\n",
      "https://panorama.pub/5149-podrostki-izlechilis-vodkoy.html\n",
      "https://panorama.pub/4727-pisatel-sorokin-vozmetsya-za-detskuyu-literaturu.html\n",
      "https://panorama.pub/4972-afroamerikanets-podal-v-sud-iz-za-belyh-golubej-na-svadbe.html\n",
      "https://panorama.pub/4854-v-avstralii-rabotniki-zooparka-podbrasyvali-krolikov-pokidayushhim-stranu-inostrantsam.html\n",
      "https://panorama.pub/4893-nashli-granyonnyj-stakan-eltsina.html\n",
      "https://panorama.pub/5499-v-tsentre-upravleniya-polyotami-nasa-vvedut-obyazatelnuyu-kvotu-na-rabochie-mesta-dlya-daunov.html\n",
      "https://panorama.pub/5442-rospotrebnadzor-zakupit-200-tysyach-muh-dlya-opredeleniya-kachestva-arbuzov.html\n",
      "https://panorama.pub/5418-sobaki-rosgvardii.html\n",
      "https://panorama.pub/5374-v-krymu-otkrylsya-koprologicheskij-sanatorij.html\n",
      "https://panorama.pub/5363-mid-rossii-otvetil-kritikam.html\n",
      "https://panorama.pub/5355-kanadets-pozhalovalsja-plokhoy-koks-v-rashke.html\n",
      "https://panorama.pub/5343-burgomistr-avstrijskogo-goroda-bolee-20-let-pritvoryalsya-zhenshhinoj.html\n",
      "https://panorama.pub/5328-v-evrosoyuze-vvedut-indeks-tsennosti.html\n",
      "https://panorama.pub/5265-zhurnalisty-s-zaderzhkami.html\n",
      "https://panorama.pub/5206-monsanto-detyam.html\n",
      "https://panorama.pub/5175-v-rossii-poyavyatsya-150-novyh-vuzov-bez-uchebnoj-programmy.html\n",
      "https://panorama.pub/5130-v-ekaterinburge-pamyatnik-leninu.html\n",
      "https://panorama.pub/5120-v-astrahani-vytashhili-iz-vody-plyvshij-po-volge-pamyatnik-leninu.html\n",
      "https://panorama.pub/5097-kubanskie-kazaki-v-izraile.html\n",
      "https://panorama.pub/5042-programmist-zabyl-o-bote.html\n",
      "https://panorama.pub/5004-ren-tv-pokazhet-film.html\n",
      "https://panorama.pub/4987-rynok-sadovod-budet-vklyuchyon-v-spisok-kulturnogo-naslediya-yunesko.html\n",
      "https://panorama.pub/4912-finskih-shkolnikov-nauchat-bukhat.html\n"
     ]
    }
   ],
   "source": [
    "query = 'чудесный * день + -хороший * человек'\n",
    "\n",
    "docs = bool_search(query, index, inv_index)"
   ]
  },
  {
   "cell_type": "code",
   "execution_count": null,
   "id": "c4507e08",
   "metadata": {},
   "outputs": [],
   "source": []
  }
 ],
 "metadata": {
  "kernelspec": {
   "display_name": "Python 3 (ipykernel)",
   "language": "python",
   "name": "python3"
  },
  "language_info": {
   "codemirror_mode": {
    "name": "ipython",
    "version": 3
   },
   "file_extension": ".py",
   "mimetype": "text/x-python",
   "name": "python",
   "nbconvert_exporter": "python",
   "pygments_lexer": "ipython3",
   "version": "3.9.7"
  }
 },
 "nbformat": 4,
 "nbformat_minor": 5
}
